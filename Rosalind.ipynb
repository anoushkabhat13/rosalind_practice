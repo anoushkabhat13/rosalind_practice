{
  "nbformat": 4,
  "nbformat_minor": 0,
  "metadata": {
    "colab": {
      "provenance": [],
      "authorship_tag": "ABX9TyPRRldlBKuh8Loq0YqFnuPE",
      "include_colab_link": true
    },
    "kernelspec": {
      "name": "python3",
      "display_name": "Python 3"
    },
    "language_info": {
      "name": "python"
    }
  },
  "cells": [
    {
      "cell_type": "markdown",
      "metadata": {
        "id": "view-in-github",
        "colab_type": "text"
      },
      "source": [
        "<a href=\"https://colab.research.google.com/github/anoushkabhat13/rosalind_practice/blob/main/Rosalind.ipynb\" target=\"_parent\"><img src=\"https://colab.research.google.com/assets/colab-badge.svg\" alt=\"Open In Colab\"/></a>"
      ]
    },
    {
      "cell_type": "code",
      "execution_count": 6,
      "metadata": {
        "colab": {
          "base_uri": "https://localhost:8080/"
        },
        "id": "3nPSN2SMN-6e",
        "outputId": "e6c5b957-7bf7-401f-f65f-63a333e57d01"
      },
      "outputs": [
        {
          "output_type": "stream",
          "name": "stdout",
          "text": [
            "229\n",
            "250\n",
            "215\n",
            "231\n"
          ]
        }
      ],
      "source": [
        "import numpy as np\n",
        "import pandas as pd\n",
        "import fileinput\n",
        "\n",
        "\n",
        "#Rosalind 1 (Counting number of A's, C's, G's, T's respectively)\n",
        "data = \"TTTCACTCAGTTTCCATCTGCATTAATTAAGTTTGACGCCCCGTCAGTCTAGATCATCAAGCGACAGATACTACAGGCCCATTGGTGACTTCGTGAGACGGCAACACACCCCATAATTTAATTCTCAACCCCTCTATTCGTCATGAAGCATCGCAATTGCTCTGGAAGCTACCTACGATGTAGTGGTGGCGCGGACTTTCATGTACTGTTTTTAAAAAGACTATGACTGGGTAAAGCCCGTGTTGGTTGGTGCATCCAACTCGTTTAATCGGCGTACATGGACGACCGATCAGGAGAACCGTGAATGTGTCACACCCCCCCAACCCGCACGTCAGCTTTTCTCTCCTTGATAGTCCGAGGGCGGAGTGCGAGTTTCCCGTCGTTCTCCACGTTTGAAATTCCGGCGCTTGGCCTGCGTTGCGTGGTGCGCGTGGATATCTGCCCAGCCCAAGCAGTACAGGGGCAATCTATCACCTACACTCATCGTATAACTCCATTGTTGGGTTGCTCCGATCTCCTGAAGCCTAAGTGTGACTGCTTACAAAAATGCCCCTTGCTACAACTAAAGTGCGGCTACGGTACCATCAAGCCCCACTACTGGAAGCGTACAAAGTCACAGAAGATCTGAGACTGTGTGGACTTGATAAATTATAACTTGGACTCAACTGTTTTGCGGTTGTGAGCTAGTAGAGCCGAGCTGCCCCCCAGAATACTCAGCACTGTGCCGCGAAGAGTGTTTCGCATAGGGCCTGCGTCGACATAACCACTACTGCTGGGGCGCGTACAAGTATCGCCCGAACTCATAGCTGACACCCACTCATGGAGGATTCCAAAGTGACCCTGAGCGATGTAACCAACGATGATGCTATCTAAGACCATCTAATGTTGAGCGCCACTGAAATAAGGATCGGCAATTTCGAACCCC\"\n",
        "hash = {}\n",
        "for i in data:\n",
        "  if i in hash:\n",
        "    hash[i] +=1\n",
        "  else:\n",
        "    hash[i] = 1\n",
        "\n",
        "print(hash[\"A\"])\n",
        "print(hash[\"C\"])\n",
        "print(hash[\"G\"])\n",
        "print(hash[\"T\"])"
      ]
    },
    {
      "cell_type": "code",
      "source": [
        "#Rosalind 2: converting DNA to RNA\n",
        "\n",
        "data = \"TACTGTATTCACTACTTCGTAGCCCTCCCAGGCCACAGTAAATCACAGCCTCTGCCACTGTAGGTACTTTTCTTGGAGAGCTCGAACCATACACTCTCATGGTGCATGGTGGTCTTCAGGTAGCTCACGTGATAATGCCGACACTTGAGGCATAAAGCTACCTAAAACGCGTTTTCAGCGGAATAGACCGAGTTGCAGGACGCCGGGAAAGTTTAGACCGATATCCACATCGAGGACTGGGCTCATTCTTGTGGGGACGCTGGTACAATACCTACGTTATCGCACTGCTGTCAGACGTCTTTGGTTAATACGTAAGGATCACAAGACATTCACCGCACTTCGTTAAGTTGTCCCAGATGAAATCTCCTGGTTTAGGGGAGCTCCTGAAGGCAACGCGGAGGGCTAGGCCTCGACTCGAGACAACAATGGGCACTGTACGTCTCCGAATATTATATCTAGGCGCACTCACTCTCTGCTGGCACTGATAGCTCCCAAGGATCAGCGCTAGGGCCTCAGTTATGGGAAGCCATTTTTGCACATACTTCGTCCCCCATTTCGCCGGAATCCTTCGCGGAAAGTCCGTGATCAATGCGGTCGCCTGGACAATGGTTTAGACTTCATCCATCGTTGCGCTGAAGACTCGAGTGCACATGAGCGAGGCGCTTCATACAGCCCAGCCTCGAGACTGAATCCGTCAGCGCCGGATACTTCGCATGCTGGATCCCGATAGTACATGATACAGCAAGGCCCACAACCAAGGAGATTTCCTCACACATGACCCCAAGGAGCCACCGCCAGATTGCGAAGGGATGAGTCGCGACGAAGATTCTGTTAAGCCGCCCCTGTCGTGTTTTCTCGACGGTCTGGTTCTAGTGGAATATGTTGTTCGCTAGGCCTAATTCCGCTCTTCGCTTTATGTAGCGTACGATACCAACACGGGTTTGTGCCTCCGTGTGCGTATGCGATCTATTA\"\n",
        "data = np.array(list(data))\n",
        "for i in range(0, len(data)):\n",
        "    if data[i] == \"T\":\n",
        "      data[i] = \"U\"\n",
        "\n",
        "data = \"\".join(data)\n",
        "print(data)\n",
        "\n",
        "#simpler solution, using .replace\n",
        "data.replace(\"T\", \"U\")\n"
      ],
      "metadata": {
        "colab": {
          "base_uri": "https://localhost:8080/"
        },
        "id": "BiGgyPWHQfc_",
        "outputId": "5b8b3356-bfa2-4159-9249-ec21210de649"
      },
      "execution_count": 18,
      "outputs": [
        {
          "output_type": "stream",
          "name": "stdout",
          "text": [
            "UACUGUAUUCACUACUUCGUAGCCCUCCCAGGCCACAGUAAAUCACAGCCUCUGCCACUGUAGGUACUUUUCUUGGAGAGCUCGAACCAUACACUCUCAUGGUGCAUGGUGGUCUUCAGGUAGCUCACGUGAUAAUGCCGACACUUGAGGCAUAAAGCUACCUAAAACGCGUUUUCAGCGGAAUAGACCGAGUUGCAGGACGCCGGGAAAGUUUAGACCGAUAUCCACAUCGAGGACUGGGCUCAUUCUUGUGGGGACGCUGGUACAAUACCUACGUUAUCGCACUGCUGUCAGACGUCUUUGGUUAAUACGUAAGGAUCACAAGACAUUCACCGCACUUCGUUAAGUUGUCCCAGAUGAAAUCUCCUGGUUUAGGGGAGCUCCUGAAGGCAACGCGGAGGGCUAGGCCUCGACUCGAGACAACAAUGGGCACUGUACGUCUCCGAAUAUUAUAUCUAGGCGCACUCACUCUCUGCUGGCACUGAUAGCUCCCAAGGAUCAGCGCUAGGGCCUCAGUUAUGGGAAGCCAUUUUUGCACAUACUUCGUCCCCCAUUUCGCCGGAAUCCUUCGCGGAAAGUCCGUGAUCAAUGCGGUCGCCUGGACAAUGGUUUAGACUUCAUCCAUCGUUGCGCUGAAGACUCGAGUGCACAUGAGCGAGGCGCUUCAUACAGCCCAGCCUCGAGACUGAAUCCGUCAGCGCCGGAUACUUCGCAUGCUGGAUCCCGAUAGUACAUGAUACAGCAAGGCCCACAACCAAGGAGAUUUCCUCACACAUGACCCCAAGGAGCCACCGCCAGAUUGCGAAGGGAUGAGUCGCGACGAAGAUUCUGUUAAGCCGCCCCUGUCGUGUUUUCUCGACGGUCUGGUUCUAGUGGAAUAUGUUGUUCGCUAGGCCUAAUUCCGCUCUUCGCUUUAUGUAGCGUACGAUACCAACACGGGUUUGUGCCUCCGUGUGCGUAUGCGAUCUAUUA\n"
          ]
        }
      ]
    },
    {
      "cell_type": "code",
      "source": [
        "#Rosalind 3: taking reverse complement of a sequence\n",
        "\n",
        "data = \"GGGCTTACCGGCGTCTTTGGAGTCTAGCAAAACGTGGAGCTAGGAACGTTCATATACGCATATTTGTCTATAAACCAAGCACCTTACCTGAATGATTCCCGCTCAGTCATGTTTTGGGCTGGAGCTCAGGGCGGTTTAGGGACTCTTGAAAATAGTTTTGCTCGTGAGGTTGGGCTTCACTATGAAGACTGACGGTGGAGTCGCCAGATTGCGGTCGGAGGGTTTAGACAGCTAGTGGTTGGTTTTACCCTCTAAAGCATTAACCGAAGGCACCGTGCTTGCAGGCGTTGGTAGCTCGCTCGTGTCTTATGGAACAGCAATACTTCCTCTGATGACGACGCCGGGGACGTCTAATACAGCCGTCCCAATTCCAGGTATGACCACTACTCTTGAGGCCCCGAGGCGATATCGTCGAAGATTTTTGTACGTCCGATCCCAGTACGGATCTCACTTGGCTACTTGCATAAATGCGCCACATAGAGTTAAGATAGAGCATCATTAATACACTTAAATACCCGATGCTAGAGGTAAAAATGTAGTTGGGCTCCTCTTGGCCTATTGGACTGAGCTCCTAACTCACAACTGACACCATTTATTCCGCTATAGGGACTCGCGTAAGAGGGGCATCGATTTCTACGCGCACCGCTCGGCAATCGCCAGGGTGACCTGGCTCTGAAAGCTACTCACGCTCAACTGGATGTCTTACGATTCTGGGGTTCGGGCACGGTGATGCTTAAAACAGTTAGTACTCCCAGCTATGTAGACAAGCTTACCCCTGGAAACAGTCCATGTCAGGCTCTCAAGTAGCGATCTCCGTTCGCCTCCGGACACAACGAGACTCACACTGGG\"\n",
        "data = data[::-1]\n",
        "data = np.array(list(data))\n",
        "for i in range(0, len(data)):\n",
        "  if data[i] == \"T\":\n",
        "    data[i] = \"A\"\n",
        "  elif data[i] == \"A\":\n",
        "    data[i] = \"T\"\n",
        "  elif data[i] == \"G\":\n",
        "    data[i] = \"C\"\n",
        "  elif data[i] == \"C\":\n",
        "    data[i] = \"G\"\n",
        "\n",
        "data = \"\".join(data)\n",
        "print(data)"
      ],
      "metadata": {
        "colab": {
          "base_uri": "https://localhost:8080/"
        },
        "id": "mfgMfBKFQ2rp",
        "outputId": "ca7790c6-4e7f-406c-d403-7f4e237c5ffa"
      },
      "execution_count": 22,
      "outputs": [
        {
          "output_type": "stream",
          "name": "stdout",
          "text": [
            "CCCAGTGTGAGTCTCGTTGTGTCCGGAGGCGAACGGAGATCGCTACTTGAGAGCCTGACATGGACTGTTTCCAGGGGTAAGCTTGTCTACATAGCTGGGAGTACTAACTGTTTTAAGCATCACCGTGCCCGAACCCCAGAATCGTAAGACATCCAGTTGAGCGTGAGTAGCTTTCAGAGCCAGGTCACCCTGGCGATTGCCGAGCGGTGCGCGTAGAAATCGATGCCCCTCTTACGCGAGTCCCTATAGCGGAATAAATGGTGTCAGTTGTGAGTTAGGAGCTCAGTCCAATAGGCCAAGAGGAGCCCAACTACATTTTTACCTCTAGCATCGGGTATTTAAGTGTATTAATGATGCTCTATCTTAACTCTATGTGGCGCATTTATGCAAGTAGCCAAGTGAGATCCGTACTGGGATCGGACGTACAAAAATCTTCGACGATATCGCCTCGGGGCCTCAAGAGTAGTGGTCATACCTGGAATTGGGACGGCTGTATTAGACGTCCCCGGCGTCGTCATCAGAGGAAGTATTGCTGTTCCATAAGACACGAGCGAGCTACCAACGCCTGCAAGCACGGTGCCTTCGGTTAATGCTTTAGAGGGTAAAACCAACCACTAGCTGTCTAAACCCTCCGACCGCAATCTGGCGACTCCACCGTCAGTCTTCATAGTGAAGCCCAACCTCACGAGCAAAACTATTTTCAAGAGTCCCTAAACCGCCCTGAGCTCCAGCCCAAAACATGACTGAGCGGGAATCATTCAGGTAAGGTGCTTGGTTTATAGACAAATATGCGTATATGAACGTTCCTAGCTCCACGTTTTGCTAGACTCCAAAGACGCCGGTAAGCCC\n"
          ]
        }
      ]
    },
    {
      "cell_type": "code",
      "source": [
        "#Rosalind 4: Recurrence relations, dynamic programming\n",
        "#to find rabbit population, multiply the number of rabbits from 2 populations before by num then add the # of rabbits right before\n",
        "def func(num, mult):\n",
        "  rec = [1, 1] + [0]*(num-2)\n",
        "\n",
        "  for i in range(2,num):\n",
        "      rec[i] = rec[i-1] + (rec[i-2]*mult)\n",
        "\n",
        "  return rec[num-1]\n",
        "\n",
        "func(33,4)"
      ],
      "metadata": {
        "colab": {
          "base_uri": "https://localhost:8080/"
        },
        "id": "Y5QiqrmSVuEv",
        "outputId": "70088f31-f3f7-49d0-bb34-5c43eb67bf75"
      },
      "execution_count": 39,
      "outputs": [
        {
          "output_type": "execute_result",
          "data": {
            "text/plain": [
              "7334743797805"
            ]
          },
          "metadata": {},
          "execution_count": 39
        }
      ]
    },
    {
      "cell_type": "code",
      "source": [
        "#Rosalind 4:\n",
        "\n",
        "#can either use readline\n",
        "with open(\"example.txt\", \"r\") as file:\n",
        "  max = 0\n",
        "  line1 = file.readline()\n",
        "        line2 = file.readline()\n",
        "\n",
        "        if not line1:  # If line1 is empty, end of file is reached\n",
        "            break\n",
        "\n"
      ],
      "metadata": {
        "id": "ShamS8pmX6wu"
      },
      "execution_count": 23,
      "outputs": []
    }
  ]
}